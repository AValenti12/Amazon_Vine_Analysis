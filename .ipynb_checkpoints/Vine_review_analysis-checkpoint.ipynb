{
 "cells": [
  {
   "cell_type": "code",
   "execution_count": null,
   "metadata": {
    "colab": {
     "base_uri": "https://localhost:8080/"
    },
    "id": "bCgmW8C8Fraf",
    "outputId": "984ba2ba-5d3b-4e5f-e880-81f384513e05"
   },
   "outputs": [
    {
     "name": "stdout",
     "output_type": "stream",
     "text": [
      "\r",
      "0% [Working]\r",
      "            \r",
      "Get:1 http://security.ubuntu.com/ubuntu bionic-security InRelease [88.7 kB]\n",
      "\r",
      "0% [Connecting to archive.ubuntu.com (91.189.88.152)] [1 InRelease 14.2 kB/88.7\r",
      "0% [Waiting for headers] [Connected to cloud.r-project.org (65.8.181.110)] [Wai\r",
      "0% [1 InRelease gpgv 88.7 kB] [Waiting for headers] [Waiting for headers] [Wait\r",
      "                                                                               \r",
      "Ign:2 https://developer.download.nvidia.com/compute/cuda/repos/ubuntu1804/x86_64  InRelease\n",
      "\r",
      "0% [1 InRelease gpgv 88.7 kB] [Waiting for headers] [Waiting for headers] [Wait\r",
      "                                                                               \r",
      "Get:3 https://cloud.r-project.org/bin/linux/ubuntu bionic-cran40/ InRelease [3,626 B]\n",
      "\r",
      "0% [1 InRelease gpgv 88.7 kB] [Waiting for headers] [3 InRelease 3,626 B/3,626 \r",
      "0% [1 InRelease gpgv 88.7 kB] [Waiting for headers] [Waiting for headers] [Wait\r",
      "                                                                               \r",
      "Get:4 http://ppa.launchpad.net/c2d4u.team/c2d4u4.0+/ubuntu bionic InRelease [15.9 kB]\n",
      "Hit:5 http://archive.ubuntu.com/ubuntu bionic InRelease\n",
      "Ign:6 https://developer.download.nvidia.com/compute/machine-learning/repos/ubuntu1804/x86_64  InRelease\n",
      "Get:7 https://developer.download.nvidia.com/compute/cuda/repos/ubuntu1804/x86_64  Release [696 B]\n",
      "Hit:8 https://developer.download.nvidia.com/compute/machine-learning/repos/ubuntu1804/x86_64  Release\n",
      "Get:9 https://developer.download.nvidia.com/compute/cuda/repos/ubuntu1804/x86_64  Release.gpg [836 B]\n",
      "Get:10 http://archive.ubuntu.com/ubuntu bionic-updates InRelease [88.7 kB]\n",
      "Hit:11 http://ppa.launchpad.net/cran/libgit2/ubuntu bionic InRelease\n",
      "Get:12 http://security.ubuntu.com/ubuntu bionic-security/main amd64 Packages [2,430 kB]\n",
      "Get:13 http://archive.ubuntu.com/ubuntu bionic-backports InRelease [74.6 kB]\n",
      "Hit:14 http://ppa.launchpad.net/deadsnakes/ppa/ubuntu bionic InRelease\n",
      "Get:15 http://security.ubuntu.com/ubuntu bionic-security/universe amd64 Packages [1,442 kB]\n",
      "Hit:16 http://ppa.launchpad.net/graphics-drivers/ppa/ubuntu bionic InRelease\n",
      "Get:18 https://developer.download.nvidia.com/compute/cuda/repos/ubuntu1804/x86_64  Packages [828 kB]\n",
      "Get:19 http://ppa.launchpad.net/c2d4u.team/c2d4u4.0+/ubuntu bionic/main Sources [1,812 kB]\n",
      "Get:20 http://archive.ubuntu.com/ubuntu bionic-updates/universe amd64 Packages [2,224 kB]\n",
      "Get:21 http://ppa.launchpad.net/c2d4u.team/c2d4u4.0+/ubuntu bionic/main amd64 Packages [930 kB]\n",
      "Get:22 http://archive.ubuntu.com/ubuntu bionic-updates/main amd64 Packages [2,868 kB]\n",
      "Fetched 12.8 MB in 5s (2,485 kB/s)\n",
      "Reading package lists... Done\n"
     ]
    }
   ],
   "source": [
    "import os\n",
    "# Find the latest version of spark 3.0 from http://www.apache.org/dist/spark/ and enter as the spark version\n",
    "# For example:\n",
    "# spark_version = 'spark-3.0.3'\n",
    "spark_version = 'spark-3.2.0'\n",
    "os.environ['SPARK_VERSION']=spark_version\n",
    "\n",
    "# Install Spark and Java\n",
    "!apt-get update\n",
    "!apt-get install openjdk-11-jdk-headless -qq > /dev/null\n",
    "!wget -q http://www.apache.org/dist/spark/$SPARK_VERSION/$SPARK_VERSION-bin-hadoop2.7.tgz\n",
    "!tar xf $SPARK_VERSION-bin-hadoop2.7.tgz\n",
    "!pip install -q findspark\n",
    "\n",
    "# Set Environment Variables\n",
    "import os\n",
    "os.environ[\"JAVA_HOME\"] = \"/usr/lib/jvm/java-11-openjdk-amd64\"\n",
    "os.environ[\"SPARK_HOME\"] = f\"/content/{spark_version}-bin-hadoop2.7\"\n",
    "\n",
    "# Start a SparkSession\n",
    "import findspark\n",
    "findspark.init()\n",
    "\n",
    "import"
   ]
  },
  {
   "cell_type": "code",
   "execution_count": null,
   "metadata": {
    "id": "ZsGPHa7qFy9h"
   },
   "outputs": [],
   "source": [
    "from pyspark.sql import SparkSession\n",
    "spark = SparkSession.builder.appName(\"BigData-Challenge\").getOrCreate()"
   ]
  },
  {
   "cell_type": "code",
   "execution_count": null,
   "metadata": {
    "id": "Wm68VREnFzB9"
   },
   "outputs": [],
   "source": [
    "from pyspark import SparkFiles\n",
    "url = \"https://s3.amazonaws.com/amazon-reviews-pds/tsv/amazon_reviews_us_Books_v1_02.tsv.gz\"\n",
    "spark.sparkContext.addFile(url)\n",
    "df = spark.read.option(\"encoding\", \"UTF-8\").csv(SparkFiles.get(\"amazon_reviews_us_Books_v1_02.tsv.gz\"), sep=\"\\t\", header=True, inferSchema=True)\n",
    "df.show()"
   ]
  },
  {
   "cell_type": "code",
   "execution_count": null,
   "metadata": {
    "colab": {
     "base_uri": "https://localhost:8080/"
    },
    "id": "a3f6PXetGtB5",
    "outputId": "063c1015-8c83-48e9-e333-47c6c50e915a"
   },
   "outputs": [
    {
     "name": "stdout",
     "output_type": "stream",
     "text": [
      "+--------------+-----------+-------------+-----------+----+-----------------+\n",
      "|     review_id|star_rating|helpful_votes|total_votes|vine|verified_purchase|\n",
      "+--------------+-----------+-------------+-----------+----+-----------------+\n",
      "| RQ58W7SMO911M|          4|            2|          3|   N|                N|\n",
      "|  RF6IUKMGL8SF|          3|            5|          5|   N|                N|\n",
      "|R1DOSHH6AI622S|          4|            1|         22|   N|                N|\n",
      "| RATOTLA3OF70O|          5|            2|          2|   N|                N|\n",
      "|R1TNWRKIVHVYOV|          4|            0|          2|   N|                N|\n",
      "|R2F53LI9KK9MOY|          4|            2|          2|   N|                N|\n",
      "|R1KJ6MB7MRSQFF|          4|            9|         11|   N|                N|\n",
      "|R2XIM9LT335WHE|          4|            3|         10|   N|                N|\n",
      "|R1VE0FQQ0QTQJN|          5|           16|         20|   N|                Y|\n",
      "|R1VKEE2NWSWDRU|          4|            0|          0|   N|                N|\n",
      "|R2UP6XSVYJBJ2H|          5|            0|          0|   N|                N|\n",
      "|R21SYDQ70ILUC0|          5|            1|          1|   N|                Y|\n",
      "| R7M06Z88PD7SX|          4|           14|         14|   N|                N|\n",
      "| RRS38KZ4WB5O2|          5|            1|          1|   N|                N|\n",
      "|R2YDYRSLGNHPHR|          4|           16|         19|   N|                Y|\n",
      "|R1BMPM18O6VZOR|          4|           13|         14|   N|                N|\n",
      "|R1AABFZH0J0C0C|          3|           17|         35|   N|                N|\n",
      "|R3SJYLG07EHNE9|          2|           16|         34|   N|                N|\n",
      "|R2TIO43ND87XVO|          5|            1|          1|   N|                N|\n",
      "|R18TY4WD19OUAO|          5|            1|          1|   N|                N|\n",
      "+--------------+-----------+-------------+-----------+----+-----------------+\n",
      "only showing top 20 rows\n",
      "\n"
     ]
    }
   ],
   "source": [
    "# Create the vine_table. DataFrame\n",
    "vine_df = df.select([\"review_id\", \"star_rating\", \"helpful_votes\", \"total_votes\", \"vine\", \"verified_purchase\"])\n",
    "vine_df.show()"
   ]
  },
  {
   "cell_type": "code",
   "execution_count": null,
   "metadata": {
    "colab": {
     "base_uri": "https://localhost:8080/"
    },
    "id": "g_2O3ZbKG1aS",
    "outputId": "3d519885-3484-4e1a-9df6-f3704f3ea8d5"
   },
   "outputs": [
    {
     "name": "stdout",
     "output_type": "stream",
     "text": [
      "+--------------+-----------+-------------+-----------+----+-----------------+\n",
      "|     review_id|star_rating|helpful_votes|total_votes|vine|verified_purchase|\n",
      "+--------------+-----------+-------------+-----------+----+-----------------+\n",
      "|R1DOSHH6AI622S|          4|            1|         22|   N|                N|\n",
      "|R1AABFZH0J0C0C|          3|           17|         35|   N|                N|\n",
      "|R3SJYLG07EHNE9|          2|           16|         34|   N|                N|\n",
      "|R3MD5TZJGIPTDU|          5|           21|         31|   N|                N|\n",
      "|R1KPOIT5WT3NEF|          1|           13|         29|   N|                N|\n",
      "| RX6OWUF8EFZ72|          5|           27|         28|   N|                N|\n",
      "| R33IFUWCNYFSO|          2|            4|         45|   N|                N|\n",
      "|R1OPUF771LL5O5|          4|           27|         27|   N|                N|\n",
      "|R3AW5JRZYH66M5|          1|          268|        307|   N|                N|\n",
      "|R2DXLNKF0EL4CI|          4|           24|         27|   N|                Y|\n",
      "|R12EHXBC0GP2C2|          5|           23|         24|   N|                N|\n",
      "|R2JSWNTAO83X3V|          5|          145|        184|   N|                N|\n",
      "|R3THZWOBS1086J|          5|           46|         47|   N|                N|\n",
      "|R160DHJPJ4B20R|          4|           28|         30|   N|                N|\n",
      "|R27UDFNE6MY1LO|          2|           15|         24|   N|                N|\n",
      "|R34X92SSRBI0N4|          5|           26|         29|   N|                N|\n",
      "| RDBVYHGTTICMV|          1|            4|         25|   N|                N|\n",
      "| RGTKXJ8P5O7LR|          4|           16|         21|   N|                N|\n",
      "|R35H2BHBL5VNWW|          1|            9|         26|   N|                N|\n",
      "|R27Y2EH0O6855Z|          5|            8|         21|   N|                N|\n",
      "+--------------+-----------+-------------+-----------+----+-----------------+\n",
      "only showing top 20 rows\n",
      "\n"
     ]
    }
   ],
   "source": [
    "# Create helpful_reviews DataFrame\n",
    "helpful_reviews_df = vine_df.filter(vine_df.total_votes > \"20\")\n",
    "helpful_reviews_df.show()"
   ]
  },
  {
   "cell_type": "code",
   "execution_count": null,
   "metadata": {
    "colab": {
     "base_uri": "https://localhost:8080/"
    },
    "id": "3-COEXteFzFW",
    "outputId": "a99c74af-c6d0-4739-f52b-df1edcc077f5"
   },
   "outputs": [
    {
     "name": "stdout",
     "output_type": "stream",
     "text": [
      "+--------------+-----------+-------------+-----------+----+-----------------+\n",
      "|     review_id|star_rating|helpful_votes|total_votes|vine|verified_purchase|\n",
      "+--------------+-----------+-------------+-----------+----+-----------------+\n",
      "|R3MD5TZJGIPTDU|          5|           21|         31|   N|                N|\n",
      "| RX6OWUF8EFZ72|          5|           27|         28|   N|                N|\n",
      "|R1OPUF771LL5O5|          4|           27|         27|   N|                N|\n",
      "|R3AW5JRZYH66M5|          1|          268|        307|   N|                N|\n",
      "|R2DXLNKF0EL4CI|          4|           24|         27|   N|                Y|\n",
      "|R12EHXBC0GP2C2|          5|           23|         24|   N|                N|\n",
      "|R2JSWNTAO83X3V|          5|          145|        184|   N|                N|\n",
      "|R3THZWOBS1086J|          5|           46|         47|   N|                N|\n",
      "|R160DHJPJ4B20R|          4|           28|         30|   N|                N|\n",
      "|R27UDFNE6MY1LO|          2|           15|         24|   N|                N|\n",
      "|R34X92SSRBI0N4|          5|           26|         29|   N|                N|\n",
      "| RGTKXJ8P5O7LR|          4|           16|         21|   N|                N|\n",
      "|R1TK5Q90GGJSTN|          4|           59|         68|   N|                N|\n",
      "|R3E8UZOCG84HNO|          5|           18|         24|   N|                N|\n",
      "|R33O2810BC4UR0|          5|          101|        103|   N|                Y|\n",
      "|R1M60NYB4UPRJ8|          5|           19|         24|   N|                N|\n",
      "|R38RXR8USISV94|          4|         1150|       1228|   N|                N|\n",
      "|R2E2KP6K6OUBEX|          5|           59|         60|   N|                N|\n",
      "|R3F583X11I1RP6|          1|           40|         43|   N|                N|\n",
      "| RNSB10A8SS8NJ|          2|           93|        108|   N|                N|\n",
      "+--------------+-----------+-------------+-----------+----+-----------------+\n",
      "only showing top 20 rows\n",
      "\n"
     ]
    },
    {
     "data": {
      "text/plain": [
       "378638"
      ]
     },
     "execution_count": 7,
     "metadata": {},
     "output_type": "execute_result"
    }
   ],
   "source": [
    "# Create helpful_rate DataFrame\n",
    "helpful_rate_df = helpful_reviews_df.filter(helpful_reviews_df.helpful_votes /helpful_reviews_df.total_votes >= \"0.50\")\n",
    "helpful_rate_df.show()\n",
    "helpful_rate_df.count()"
   ]
  },
  {
   "cell_type": "code",
   "execution_count": null,
   "metadata": {
    "colab": {
     "base_uri": "https://localhost:8080/"
    },
    "id": "noET2jbaIxO-",
    "outputId": "f42b1fa1-a708-479e-fe64-2aca53b2b0bc"
   },
   "outputs": [
    {
     "name": "stdout",
     "output_type": "stream",
     "text": [
      "+---------+-----------+-------------+-----------+----+-----------------+\n",
      "|review_id|star_rating|helpful_votes|total_votes|vine|verified_purchase|\n",
      "+---------+-----------+-------------+-----------+----+-----------------+\n",
      "+---------+-----------+-------------+-----------+----+-----------------+\n",
      "\n"
     ]
    },
    {
     "data": {
      "text/plain": [
       "0"
      ]
     },
     "execution_count": 11,
     "metadata": {},
     "output_type": "execute_result"
    }
   ],
   "source": [
    "# Create Vine Program DataFrame for reviews that are a part of the program\n",
    "vine_yes_df = helpful_rate_df.filter(helpful_rate_df.vine == \"Y\")\n",
    "vine_yes_df.show()\n",
    "vine_yes_df.count()"
   ]
  },
  {
   "cell_type": "code",
   "execution_count": null,
   "metadata": {
    "colab": {
     "base_uri": "https://localhost:8080/"
    },
    "id": "QzkdsJQiIxUn",
    "outputId": "699ad95c-46e1-4206-d412-25fe5dd36c99"
   },
   "outputs": [
    {
     "name": "stdout",
     "output_type": "stream",
     "text": [
      "+--------------+-----------+-------------+-----------+----+-----------------+\n",
      "|     review_id|star_rating|helpful_votes|total_votes|vine|verified_purchase|\n",
      "+--------------+-----------+-------------+-----------+----+-----------------+\n",
      "|R3MD5TZJGIPTDU|          5|           21|         31|   N|                N|\n",
      "| RX6OWUF8EFZ72|          5|           27|         28|   N|                N|\n",
      "|R1OPUF771LL5O5|          4|           27|         27|   N|                N|\n",
      "|R3AW5JRZYH66M5|          1|          268|        307|   N|                N|\n",
      "|R2DXLNKF0EL4CI|          4|           24|         27|   N|                Y|\n",
      "|R12EHXBC0GP2C2|          5|           23|         24|   N|                N|\n",
      "|R2JSWNTAO83X3V|          5|          145|        184|   N|                N|\n",
      "|R3THZWOBS1086J|          5|           46|         47|   N|                N|\n",
      "|R160DHJPJ4B20R|          4|           28|         30|   N|                N|\n",
      "|R27UDFNE6MY1LO|          2|           15|         24|   N|                N|\n",
      "|R34X92SSRBI0N4|          5|           26|         29|   N|                N|\n",
      "| RGTKXJ8P5O7LR|          4|           16|         21|   N|                N|\n",
      "|R1TK5Q90GGJSTN|          4|           59|         68|   N|                N|\n",
      "|R3E8UZOCG84HNO|          5|           18|         24|   N|                N|\n",
      "|R33O2810BC4UR0|          5|          101|        103|   N|                Y|\n",
      "|R1M60NYB4UPRJ8|          5|           19|         24|   N|                N|\n",
      "|R38RXR8USISV94|          4|         1150|       1228|   N|                N|\n",
      "|R2E2KP6K6OUBEX|          5|           59|         60|   N|                N|\n",
      "|R3F583X11I1RP6|          1|           40|         43|   N|                N|\n",
      "| RNSB10A8SS8NJ|          2|           93|        108|   N|                N|\n",
      "+--------------+-----------+-------------+-----------+----+-----------------+\n",
      "only showing top 20 rows\n",
      "\n"
     ]
    },
    {
     "data": {
      "text/plain": [
       "378638"
      ]
     },
     "execution_count": 12,
     "metadata": {},
     "output_type": "execute_result"
    }
   ],
   "source": [
    "# Create Vine Program DataFrame for reviews that are NOT a part of the program\n",
    "vine_no_df = helpful_rate_df.filter(helpful_rate_df.vine == \"N\")\n",
    "vine_no_df.show()\n",
    "vine_no_df.count()"
   ]
  },
  {
   "cell_type": "code",
   "execution_count": null,
   "metadata": {
    "colab": {
     "base_uri": "https://localhost:8080/"
    },
    "id": "Ee9LGaGoFzId",
    "outputId": "e7aba750-a079-4371-adf7-a439b523d18d"
   },
   "outputs": [
    {
     "data": {
      "text/plain": [
       "378638"
      ]
     },
     "execution_count": 8,
     "metadata": {},
     "output_type": "execute_result"
    }
   ],
   "source": [
    "# Total number of reviews \n",
    "helpful_rate_df.count()"
   ]
  },
  {
   "cell_type": "code",
   "execution_count": null,
   "metadata": {
    "colab": {
     "base_uri": "https://localhost:8080/"
    },
    "id": "K0Rq7I6gFzLh",
    "outputId": "47529ab0-eb22-41ac-8cad-b3fcadcec59b"
   },
   "outputs": [
    {
     "data": {
      "text/plain": [
       "242122"
      ]
     },
     "execution_count": 14,
     "metadata": {},
     "output_type": "execute_result"
    }
   ],
   "source": [
    "# Total number of 5-star reviews\n",
    "five_stars_df = helpful_reviews_df.filter(helpful_reviews_df.star_rating == \"5\")\n",
    "five_stars_df.count()"
   ]
  },
  {
   "cell_type": "code",
   "execution_count": null,
   "metadata": {
    "colab": {
     "base_uri": "https://localhost:8080/"
    },
    "id": "fxv2D8HFFzOc",
    "outputId": "a4350aef-8645-43a2-ef8b-b1d0af00c7a8"
   },
   "outputs": [
    {
     "data": {
      "text/plain": [
       "0"
      ]
     },
     "execution_count": 13,
     "metadata": {},
     "output_type": "execute_result"
    }
   ],
   "source": [
    "# Total number of paid (Vine Program) 5-star reviews\n",
    "\n",
    "vine_five_df = vine_yes_df.filter(vine_yes_df.star_rating == \"5\")\n",
    "vine_five_df.count()"
   ]
  },
  {
   "cell_type": "code",
   "execution_count": null,
   "metadata": {
    "colab": {
     "base_uri": "https://localhost:8080/"
    },
    "id": "YkfaZZ3tFzQ8",
    "outputId": "4391816d-6900-4d71-9ad1-fba50f69afc8"
   },
   "outputs": [
    {
     "data": {
      "text/plain": [
       "227734"
      ]
     },
     "execution_count": 15,
     "metadata": {},
     "output_type": "execute_result"
    }
   ],
   "source": [
    "# Total number of unpaid 5-star reviews\n",
    "other_five_df = vine_no_df.filter(vine_no_df.star_rating == \"5\")\n",
    "other_five_df.count()"
   ]
  },
  {
   "cell_type": "code",
   "execution_count": null,
   "metadata": {
    "id": "sl6pTAI8I850"
   },
   "outputs": [],
   "source": [
    "# Percentage of paid (Vine Program) 5-star reviews\n",
    "\n",
    "paid_5star_review_percent = vine_five_df.count() / vine_yes_df.count() *100\n",
    "\n",
    "print(str(round(paid_5star_review_percent,2))+ \"%\")\n",
    "\n",
    "# Zero results for vine_yes_df"
   ]
  },
  {
   "cell_type": "code",
   "execution_count": null,
   "metadata": {
    "colab": {
     "base_uri": "https://localhost:8080/"
    },
    "id": "70XkrVgFI88r",
    "outputId": "7f629535-d2d9-4f6e-adf3-da4794a804d2"
   },
   "outputs": [
    {
     "name": "stdout",
     "output_type": "stream",
     "text": [
      "60.15%\n"
     ]
    }
   ],
   "source": [
    "# Percentage of unpaid 5-star reviews\n",
    "unpaid_5star_review_percent = other_five_df.count() / vine_no_df.count() *100\n",
    "\n",
    "print(str(round(unpaid_5star_review_percent,2))+ \"%\")"
   ]
  },
  {
   "cell_type": "code",
   "execution_count": null,
   "metadata": {
    "id": "cOJYS6rVI9EO"
   },
   "outputs": [],
   "source": []
  },
  {
   "cell_type": "code",
   "execution_count": null,
   "metadata": {
    "id": "2KDAnwJHI9HA"
   },
   "outputs": [],
   "source": []
  }
 ],
 "metadata": {
  "colab": {
   "collapsed_sections": [],
   "name": "Vine_review_analysis",
   "provenance": []
  },
  "kernelspec": {
   "display_name": "Python 3 (ipykernel)",
   "language": "python",
   "name": "python3"
  },
  "language_info": {
   "codemirror_mode": {
    "name": "ipython",
    "version": 3
   },
   "file_extension": ".py",
   "mimetype": "text/x-python",
   "name": "python",
   "nbconvert_exporter": "python",
   "pygments_lexer": "ipython3",
   "version": "3.8.11"
  }
 },
 "nbformat": 4,
 "nbformat_minor": 1
}
